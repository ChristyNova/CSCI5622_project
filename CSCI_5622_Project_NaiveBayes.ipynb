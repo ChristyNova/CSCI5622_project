{
 "cells": [
  {
   "cell_type": "markdown",
   "id": "e100fa8f",
   "metadata": {},
   "source": [
    "# Naïve Bayes Classifier "
   ]
  },
  {
   "cell_type": "code",
   "execution_count": 1,
   "id": "59460756",
   "metadata": {},
   "outputs": [],
   "source": [
    "import numpy as np\n",
    "import matplotlib.pyplot as plt\n",
    "import pandas as pd\n",
    "import sklearn\n",
    "import math\n",
    "import random\n",
    "\n",
    "\n",
    "# code and accuracy methods from https://www.kaggle.com/code/prashant111/naive-bayes-classifier-in-python#14.-Check-accuracy-score-"
   ]
  },
  {
   "cell_type": "code",
   "execution_count": 2,
   "id": "46e4b95a",
   "metadata": {},
   "outputs": [
    {
     "data": {
      "text/html": [
       "<div>\n",
       "<style scoped>\n",
       "    .dataframe tbody tr th:only-of-type {\n",
       "        vertical-align: middle;\n",
       "    }\n",
       "\n",
       "    .dataframe tbody tr th {\n",
       "        vertical-align: top;\n",
       "    }\n",
       "\n",
       "    .dataframe thead th {\n",
       "        text-align: right;\n",
       "    }\n",
       "</style>\n",
       "<table border=\"1\" class=\"dataframe\">\n",
       "  <thead>\n",
       "    <tr style=\"text-align: right;\">\n",
       "      <th></th>\n",
       "      <th>times</th>\n",
       "      <th>n</th>\n",
       "      <th>date</th>\n",
       "    </tr>\n",
       "  </thead>\n",
       "  <tbody>\n",
       "    <tr>\n",
       "      <th>0</th>\n",
       "      <td>1.592421e+09</td>\n",
       "      <td>0.384797</td>\n",
       "      <td>2020-06-17 19:17:13.094996992</td>\n",
       "    </tr>\n",
       "    <tr>\n",
       "      <th>1</th>\n",
       "      <td>1.592421e+09</td>\n",
       "      <td>0.390098</td>\n",
       "      <td>2020-06-17 19:17:13.244997120</td>\n",
       "    </tr>\n",
       "    <tr>\n",
       "      <th>2</th>\n",
       "      <td>1.592421e+09</td>\n",
       "      <td>0.400450</td>\n",
       "      <td>2020-06-17 19:17:13.394996992</td>\n",
       "    </tr>\n",
       "    <tr>\n",
       "      <th>3</th>\n",
       "      <td>1.592421e+09</td>\n",
       "      <td>0.377668</td>\n",
       "      <td>2020-06-17 19:17:13.544997120</td>\n",
       "    </tr>\n",
       "    <tr>\n",
       "      <th>4</th>\n",
       "      <td>1.592421e+09</td>\n",
       "      <td>0.395304</td>\n",
       "      <td>2020-06-17 19:17:13.694996992</td>\n",
       "    </tr>\n",
       "    <tr>\n",
       "      <th>...</th>\n",
       "      <td>...</td>\n",
       "      <td>...</td>\n",
       "      <td>...</td>\n",
       "    </tr>\n",
       "    <tr>\n",
       "      <th>134580</th>\n",
       "      <td>1.592452e+09</td>\n",
       "      <td>13.960220</td>\n",
       "      <td>2020-06-18 03:41:32.274036992</td>\n",
       "    </tr>\n",
       "    <tr>\n",
       "      <th>134581</th>\n",
       "      <td>1.592452e+09</td>\n",
       "      <td>13.939400</td>\n",
       "      <td>2020-06-18 03:41:32.424037120</td>\n",
       "    </tr>\n",
       "    <tr>\n",
       "      <th>134582</th>\n",
       "      <td>1.592452e+09</td>\n",
       "      <td>14.419994</td>\n",
       "      <td>2020-06-18 03:41:32.574036992</td>\n",
       "    </tr>\n",
       "    <tr>\n",
       "      <th>134583</th>\n",
       "      <td>1.592452e+09</td>\n",
       "      <td>14.073477</td>\n",
       "      <td>2020-06-18 03:41:32.724037120</td>\n",
       "    </tr>\n",
       "    <tr>\n",
       "      <th>134584</th>\n",
       "      <td>1.592452e+09</td>\n",
       "      <td>14.045006</td>\n",
       "      <td>2020-06-18 03:41:32.874036992</td>\n",
       "    </tr>\n",
       "  </tbody>\n",
       "</table>\n",
       "<p>134585 rows × 3 columns</p>\n",
       "</div>"
      ],
      "text/plain": [
       "               times          n                          date\n",
       "0       1.592421e+09   0.384797 2020-06-17 19:17:13.094996992\n",
       "1       1.592421e+09   0.390098 2020-06-17 19:17:13.244997120\n",
       "2       1.592421e+09   0.400450 2020-06-17 19:17:13.394996992\n",
       "3       1.592421e+09   0.377668 2020-06-17 19:17:13.544997120\n",
       "4       1.592421e+09   0.395304 2020-06-17 19:17:13.694996992\n",
       "...              ...        ...                           ...\n",
       "134580  1.592452e+09  13.960220 2020-06-18 03:41:32.274036992\n",
       "134581  1.592452e+09  13.939400 2020-06-18 03:41:32.424037120\n",
       "134582  1.592452e+09  14.419994 2020-06-18 03:41:32.574036992\n",
       "134583  1.592452e+09  14.073477 2020-06-18 03:41:32.724037120\n",
       "134584  1.592452e+09  14.045006 2020-06-18 03:41:32.874036992\n",
       "\n",
       "[134585 rows x 3 columns]"
      ]
     },
     "execution_count": 2,
     "metadata": {},
     "output_type": "execute_result"
    }
   ],
   "source": [
    "# Load density data\n",
    "\n",
    "MMS2_n = pd.read_csv('MMS2_n.csv',\n",
    "                     header = 0,names = ['times','n','date'],\n",
    "                     parse_dates=['date'])\n",
    "\n",
    "\n",
    "# load temperature data\n",
    "MMS2_Tperp = pd.read_csv('MMS2_Tperp.csv',\n",
    "                     header = 0,names = ['times','Tperp','date'],\n",
    "                     parse_dates=['date'])\n",
    "\n",
    "MMS2_Tpara = pd.read_csv('MMS2_Tpara.csv',\n",
    "                     header = 0,names = ['times','Tpara','date'],\n",
    "                     parse_dates=['date'])\n",
    "\n",
    "\n",
    "MMS2_n"
   ]
  },
  {
   "cell_type": "markdown",
   "id": "651e40fc",
   "metadata": {},
   "source": [
    "## Data Processing"
   ]
  },
  {
   "cell_type": "code",
   "execution_count": 3,
   "id": "920e63de",
   "metadata": {},
   "outputs": [
    {
     "name": "stdout",
     "output_type": "stream",
     "text": [
      "645\n",
      "60995\n"
     ]
    }
   ],
   "source": [
    "# Magnteosphere time periods were identified by eye. \n",
    "# Find matching indices to classify density data set into being either 1 magnetosphere, or 0 not magnetosphere\n",
    "\n",
    "\n",
    "# Identified magnetosphere time periods\n",
    "\n",
    "\n",
    "\n",
    "\n",
    "\n",
    "NB_st_time = '2020-06-17/20:30:00'\n",
    "\n",
    "NB_end_time = '2020-06-17/23:00:53'\n",
    "\n",
    "NB_st_idx = MMS2_n.date.searchsorted(NB_st_time)\n",
    "NB_end_idx = MMS2_n.date.searchsorted(NB_end_time)\n",
    "\n",
    "# def MSP_classification(density_arr, )\n",
    "\n",
    "\n",
    "\n",
    "\n",
    "\n",
    "\n",
    "\n",
    "\n",
    "print(NB_st_idx)\n",
    "\n",
    "print(NB_end_idx)\n",
    "\n",
    "\n",
    "\n"
   ]
  },
  {
   "cell_type": "markdown",
   "id": "77d5188c",
   "metadata": {},
   "source": [
    "### We will have 60,350 data points that are classified as either 1 (yes we're in Magnetosphere) or 0 (no we are not in the Magnetosphere)"
   ]
  },
  {
   "cell_type": "code",
   "execution_count": 4,
   "id": "b25800c2",
   "metadata": {},
   "outputs": [
    {
     "name": "stdout",
     "output_type": "stream",
     "text": [
      "start index: 645\n",
      "end index: 19251\n",
      "\n",
      "\n",
      "start index: 25718\n",
      "end index: 26844\n",
      "\n",
      "\n",
      "start index: 28204\n",
      "end index: 29311\n",
      "\n",
      "\n",
      "start index: 32244\n",
      "end index: 34104\n",
      "\n",
      "\n",
      "start index: 35371\n",
      "end index: 36884\n",
      "\n",
      "\n",
      "start index: 38591\n",
      "end index: 40938\n",
      "\n",
      "\n",
      "start index: 42031\n",
      "end index: 43358\n",
      "\n",
      "\n",
      "start index: 44683\n",
      "end index: 46210\n",
      "\n",
      "\n",
      "start index: 47743\n",
      "end index: 49016\n",
      "\n",
      "\n",
      "start index: 50470\n",
      "end index: 51690\n",
      "\n",
      "\n",
      "start index: 52356\n",
      "end index: 54143\n",
      "\n",
      "\n",
      "start index: 55316\n",
      "end index: 56463\n",
      "\n",
      "\n",
      "start index: 59035\n",
      "end index: 60995\n",
      "\n",
      "\n"
     ]
    }
   ],
   "source": [
    "\n",
    "\n",
    "\n",
    "# create an array the length of the classified data, fill with 0's\n",
    "MSP = np.zeros(len(MMS2_n.date))\n",
    "\n",
    "\n",
    "\n",
    "\n",
    "\n",
    "\n",
    "Magnetosphere_st_stop_times = ['2020-06-17/20:30:00','2020-06-17/21:16:31',\n",
    "'2020-06-17/21:32:41','2020-06-17/21:35:30',\n",
    "'2020-06-17/21:38:54','2020-06-17/21:41:40', \n",
    "'2020-06-17/21:49:00','2020-06-17/21:53:39',\n",
    "'2020-06-17/21:56:49','2020-06-17/22:00:36',\n",
    "'2020-06-17/22:04:52','2020-06-17/22:10:44',\n",
    "'2020-06-17/22:13:28', '2020-06-17/22:16:47',\n",
    "'2020-06-17/22:20:06','2020-06-17/22:23:55',\n",
    "'2020-06-17/22:27:45','2020-06-17/22:30:56',\n",
    "'2020-06-17/22:34:34','2020-06-17/22:37:37',\n",
    "'2020-06-17/22:39:17','2020-06-17/22:43:45',\n",
    "'2020-06-17/22:46:41','2020-06-17/22:49:33',\n",
    "'2020-06-17/22:55:59','2020-06-17/23:00:53']\n",
    "\n",
    "\n",
    "# too lazy to reformat the original list, so specify that start times are every other \n",
    "# element starting at 0th index, end times are every other index starting at 1st index\n",
    "\n",
    "st_times = Magnetosphere_st_stop_times[::2]\n",
    "end_times = Magnetosphere_st_stop_times[1::2]\n",
    "\n",
    "for t in range(len(st_times)):\n",
    "    st_idx_1 = MMS2_n.date.searchsorted(st_times[t])\n",
    "    print('start index:',st_idx_1)\n",
    "    end_idx_1 = MMS2_n.date.searchsorted(end_times[t])\n",
    "    print('end index:',end_idx_1)\n",
    "    MSP[st_idx_1:end_idx_1] = 1\n",
    "    print('\\n')\n",
    "    \n",
    "\n",
    "    \n",
    "\n",
    "# save to a .csv so I can visually inspect the result\n",
    "#pd.DataFrame(MSP).to_csv('MSP_classifier.csv', index=False) \n"
   ]
  },
  {
   "cell_type": "code",
   "execution_count": 5,
   "id": "1f8afaea",
   "metadata": {},
   "outputs": [
    {
     "name": "stdout",
     "output_type": "stream",
     "text": [
      "[1. 0. 0. ... 0. 0. 1.]\n"
     ]
    }
   ],
   "source": [
    "# Check to make sure there are 0's and 1's where you want them\n",
    "print(MSP[26843:28205])"
   ]
  },
  {
   "cell_type": "code",
   "execution_count": 6,
   "id": "28975bb2",
   "metadata": {},
   "outputs": [
    {
     "name": "stdout",
     "output_type": "stream",
     "text": [
      "[0.989079  0.9637257 0.9444995 ... 1.0501395 1.0778915 1.1071372]\n"
     ]
    },
    {
     "data": {
      "text/html": [
       "<div>\n",
       "<style scoped>\n",
       "    .dataframe tbody tr th:only-of-type {\n",
       "        vertical-align: middle;\n",
       "    }\n",
       "\n",
       "    .dataframe tbody tr th {\n",
       "        vertical-align: top;\n",
       "    }\n",
       "\n",
       "    .dataframe thead th {\n",
       "        text-align: right;\n",
       "    }\n",
       "</style>\n",
       "<table border=\"1\" class=\"dataframe\">\n",
       "  <thead>\n",
       "    <tr style=\"text-align: right;\">\n",
       "      <th></th>\n",
       "      <th>times</th>\n",
       "      <th>n</th>\n",
       "      <th>Tpara</th>\n",
       "      <th>Tperp</th>\n",
       "      <th>MSP</th>\n",
       "    </tr>\n",
       "  </thead>\n",
       "  <tbody>\n",
       "    <tr>\n",
       "      <th>645</th>\n",
       "      <td>1.592426e+09</td>\n",
       "      <td>0.989079</td>\n",
       "      <td>525.85547</td>\n",
       "      <td>499.37415</td>\n",
       "      <td>1.0</td>\n",
       "    </tr>\n",
       "    <tr>\n",
       "      <th>646</th>\n",
       "      <td>1.592426e+09</td>\n",
       "      <td>0.963726</td>\n",
       "      <td>504.76862</td>\n",
       "      <td>515.45215</td>\n",
       "      <td>1.0</td>\n",
       "    </tr>\n",
       "    <tr>\n",
       "      <th>647</th>\n",
       "      <td>1.592426e+09</td>\n",
       "      <td>0.944500</td>\n",
       "      <td>487.18292</td>\n",
       "      <td>479.80856</td>\n",
       "      <td>1.0</td>\n",
       "    </tr>\n",
       "    <tr>\n",
       "      <th>648</th>\n",
       "      <td>1.592426e+09</td>\n",
       "      <td>0.953222</td>\n",
       "      <td>581.82440</td>\n",
       "      <td>515.65250</td>\n",
       "      <td>1.0</td>\n",
       "    </tr>\n",
       "    <tr>\n",
       "      <th>649</th>\n",
       "      <td>1.592426e+09</td>\n",
       "      <td>0.978770</td>\n",
       "      <td>516.98810</td>\n",
       "      <td>498.97446</td>\n",
       "      <td>1.0</td>\n",
       "    </tr>\n",
       "    <tr>\n",
       "      <th>...</th>\n",
       "      <td>...</td>\n",
       "      <td>...</td>\n",
       "      <td>...</td>\n",
       "      <td>...</td>\n",
       "      <td>...</td>\n",
       "    </tr>\n",
       "    <tr>\n",
       "      <th>60990</th>\n",
       "      <td>1.592435e+09</td>\n",
       "      <td>1.109043</td>\n",
       "      <td>396.39496</td>\n",
       "      <td>422.18692</td>\n",
       "      <td>1.0</td>\n",
       "    </tr>\n",
       "    <tr>\n",
       "      <th>60991</th>\n",
       "      <td>1.592435e+09</td>\n",
       "      <td>1.100456</td>\n",
       "      <td>392.12500</td>\n",
       "      <td>423.97350</td>\n",
       "      <td>1.0</td>\n",
       "    </tr>\n",
       "    <tr>\n",
       "      <th>60992</th>\n",
       "      <td>1.592435e+09</td>\n",
       "      <td>1.050140</td>\n",
       "      <td>374.55520</td>\n",
       "      <td>437.87630</td>\n",
       "      <td>1.0</td>\n",
       "    </tr>\n",
       "    <tr>\n",
       "      <th>60993</th>\n",
       "      <td>1.592435e+09</td>\n",
       "      <td>1.077892</td>\n",
       "      <td>323.79974</td>\n",
       "      <td>385.11502</td>\n",
       "      <td>1.0</td>\n",
       "    </tr>\n",
       "    <tr>\n",
       "      <th>60994</th>\n",
       "      <td>1.592435e+09</td>\n",
       "      <td>1.107137</td>\n",
       "      <td>389.47522</td>\n",
       "      <td>475.59442</td>\n",
       "      <td>1.0</td>\n",
       "    </tr>\n",
       "  </tbody>\n",
       "</table>\n",
       "<p>60350 rows × 5 columns</p>\n",
       "</div>"
      ],
      "text/plain": [
       "              times         n      Tpara      Tperp  MSP\n",
       "645    1.592426e+09  0.989079  525.85547  499.37415  1.0\n",
       "646    1.592426e+09  0.963726  504.76862  515.45215  1.0\n",
       "647    1.592426e+09  0.944500  487.18292  479.80856  1.0\n",
       "648    1.592426e+09  0.953222  581.82440  515.65250  1.0\n",
       "649    1.592426e+09  0.978770  516.98810  498.97446  1.0\n",
       "...             ...       ...        ...        ...  ...\n",
       "60990  1.592435e+09  1.109043  396.39496  422.18692  1.0\n",
       "60991  1.592435e+09  1.100456  392.12500  423.97350  1.0\n",
       "60992  1.592435e+09  1.050140  374.55520  437.87630  1.0\n",
       "60993  1.592435e+09  1.077892  323.79974  385.11502  1.0\n",
       "60994  1.592435e+09  1.107137  389.47522  475.59442  1.0\n",
       "\n",
       "[60350 rows x 5 columns]"
      ]
     },
     "execution_count": 6,
     "metadata": {},
     "output_type": "execute_result"
    }
   ],
   "source": [
    "#NB_n_DF = MMS2_n.iloc[NB_st_idx:NB_end_idx]\n",
    "\n",
    "\n",
    "n = np.array(MMS2_n.n[NB_st_idx:NB_end_idx])\n",
    "\n",
    "\n",
    "print(n)\n",
    "\n",
    "# NB_n_DF['MSP_classifier'] = MSP[NB_st_idx:NB_end_idx]\n",
    "\n",
    "NB_DF = pd.DataFrame(data = {\"times\": MMS2_n.times[NB_st_idx:NB_end_idx],\n",
    "                             \"n\": MMS2_n.n[NB_st_idx:NB_end_idx],\n",
    "                             \"Tpara\": MMS2_Tpara.Tpara[NB_st_idx:NB_end_idx],\n",
    "                            \"Tperp\": MMS2_Tperp.Tperp[NB_st_idx:NB_end_idx],\n",
    "                            \"MSP\":MSP[NB_st_idx:NB_end_idx]})\n",
    "\n",
    "\n",
    "NB_DF\n"
   ]
  },
  {
   "cell_type": "code",
   "execution_count": 7,
   "id": "81534e53",
   "metadata": {},
   "outputs": [],
   "source": [
    "X = NB_DF.drop(['MSP'], axis=1)\n",
    "\n",
    "y = NB_DF['MSP']"
   ]
  },
  {
   "cell_type": "markdown",
   "id": "e8e86504",
   "metadata": {},
   "source": [
    "## Split Data"
   ]
  },
  {
   "cell_type": "code",
   "execution_count": 8,
   "id": "bbb869a9",
   "metadata": {},
   "outputs": [],
   "source": [
    "# split X and y into training and testing sets\n",
    "\n",
    "\n",
    "\n",
    "\n",
    "from sklearn.model_selection import train_test_split\n",
    "\n",
    "X_train, X_test, y_train, y_test = train_test_split(X,y, test_size = 0.3, random_state = 0)"
   ]
  },
  {
   "cell_type": "code",
   "execution_count": 9,
   "id": "184deda0",
   "metadata": {},
   "outputs": [
    {
     "data": {
      "text/plain": [
       "((42245, 4), (18105, 4))"
      ]
     },
     "execution_count": 9,
     "metadata": {},
     "output_type": "execute_result"
    }
   ],
   "source": [
    "X_train.shape, X_test.shape"
   ]
  },
  {
   "cell_type": "markdown",
   "id": "52c7bd0d",
   "metadata": {},
   "source": [
    "## Feature Scaling"
   ]
  },
  {
   "cell_type": "code",
   "execution_count": 20,
   "id": "62a642b8",
   "metadata": {},
   "outputs": [
    {
     "data": {
      "text/html": [
       "<div>\n",
       "<style scoped>\n",
       "    .dataframe tbody tr th:only-of-type {\n",
       "        vertical-align: middle;\n",
       "    }\n",
       "\n",
       "    .dataframe tbody tr th {\n",
       "        vertical-align: top;\n",
       "    }\n",
       "\n",
       "    .dataframe thead th {\n",
       "        text-align: right;\n",
       "    }\n",
       "</style>\n",
       "<table border=\"1\" class=\"dataframe\">\n",
       "  <thead>\n",
       "    <tr style=\"text-align: right;\">\n",
       "      <th></th>\n",
       "      <th>times</th>\n",
       "      <th>n</th>\n",
       "      <th>Tpara</th>\n",
       "      <th>Tperp</th>\n",
       "    </tr>\n",
       "  </thead>\n",
       "  <tbody>\n",
       "    <tr>\n",
       "      <th>0</th>\n",
       "      <td>0.605478</td>\n",
       "      <td>0.494654</td>\n",
       "      <td>0.036465</td>\n",
       "      <td>0.026406</td>\n",
       "    </tr>\n",
       "    <tr>\n",
       "      <th>1</th>\n",
       "      <td>0.824769</td>\n",
       "      <td>0.069131</td>\n",
       "      <td>0.362029</td>\n",
       "      <td>0.501811</td>\n",
       "    </tr>\n",
       "    <tr>\n",
       "      <th>2</th>\n",
       "      <td>0.315382</td>\n",
       "      <td>0.229736</td>\n",
       "      <td>0.100572</td>\n",
       "      <td>0.155099</td>\n",
       "    </tr>\n",
       "    <tr>\n",
       "      <th>3</th>\n",
       "      <td>0.242639</td>\n",
       "      <td>0.020280</td>\n",
       "      <td>0.804370</td>\n",
       "      <td>0.829552</td>\n",
       "    </tr>\n",
       "    <tr>\n",
       "      <th>4</th>\n",
       "      <td>0.611858</td>\n",
       "      <td>0.630036</td>\n",
       "      <td>0.043078</td>\n",
       "      <td>0.016433</td>\n",
       "    </tr>\n",
       "  </tbody>\n",
       "</table>\n",
       "</div>"
      ],
      "text/plain": [
       "      times         n     Tpara     Tperp\n",
       "0  0.605478  0.494654  0.036465  0.026406\n",
       "1  0.824769  0.069131  0.362029  0.501811\n",
       "2  0.315382  0.229736  0.100572  0.155099\n",
       "3  0.242639  0.020280  0.804370  0.829552\n",
       "4  0.611858  0.630036  0.043078  0.016433"
      ]
     },
     "execution_count": 20,
     "metadata": {},
     "output_type": "execute_result"
    }
   ],
   "source": [
    "from sklearn.preprocessing import MinMaxScaler\n",
    "\n",
    "\n",
    "# have to use MinMax because I was getting errors for having negative numbers\n",
    "scaler = MinMaxScaler()\n",
    "\n",
    "X_train = scaler.fit_transform(X_train)\n",
    "\n",
    "X_test = scaler.transform(X_test)\n",
    "\n",
    "\n",
    "# Create new data frames from the scaled data\n",
    "X_train = pd.DataFrame(X_train, columns = ['times','n','Tpara','Tperp'])\n",
    "\n",
    "X_test = pd.DataFrame(X_test, columns = ['times','n','Tpara','Tperp'])\n",
    "\n",
    "# make sure it looks right\n",
    "X_train.head()"
   ]
  },
  {
   "cell_type": "markdown",
   "id": "8ff0e4ed",
   "metadata": {},
   "source": [
    " ### Train the model"
   ]
  },
  {
   "cell_type": "code",
   "execution_count": 11,
   "id": "e9cd5f2e",
   "metadata": {},
   "outputs": [
    {
     "data": {
      "text/html": [
       "<style>#sk-container-id-1 {\n",
       "  /* Definition of color scheme common for light and dark mode */\n",
       "  --sklearn-color-text: black;\n",
       "  --sklearn-color-line: gray;\n",
       "  /* Definition of color scheme for unfitted estimators */\n",
       "  --sklearn-color-unfitted-level-0: #fff5e6;\n",
       "  --sklearn-color-unfitted-level-1: #f6e4d2;\n",
       "  --sklearn-color-unfitted-level-2: #ffe0b3;\n",
       "  --sklearn-color-unfitted-level-3: chocolate;\n",
       "  /* Definition of color scheme for fitted estimators */\n",
       "  --sklearn-color-fitted-level-0: #f0f8ff;\n",
       "  --sklearn-color-fitted-level-1: #d4ebff;\n",
       "  --sklearn-color-fitted-level-2: #b3dbfd;\n",
       "  --sklearn-color-fitted-level-3: cornflowerblue;\n",
       "\n",
       "  /* Specific color for light theme */\n",
       "  --sklearn-color-text-on-default-background: var(--sg-text-color, var(--theme-code-foreground, var(--jp-content-font-color1, black)));\n",
       "  --sklearn-color-background: var(--sg-background-color, var(--theme-background, var(--jp-layout-color0, white)));\n",
       "  --sklearn-color-border-box: var(--sg-text-color, var(--theme-code-foreground, var(--jp-content-font-color1, black)));\n",
       "  --sklearn-color-icon: #696969;\n",
       "\n",
       "  @media (prefers-color-scheme: dark) {\n",
       "    /* Redefinition of color scheme for dark theme */\n",
       "    --sklearn-color-text-on-default-background: var(--sg-text-color, var(--theme-code-foreground, var(--jp-content-font-color1, white)));\n",
       "    --sklearn-color-background: var(--sg-background-color, var(--theme-background, var(--jp-layout-color0, #111)));\n",
       "    --sklearn-color-border-box: var(--sg-text-color, var(--theme-code-foreground, var(--jp-content-font-color1, white)));\n",
       "    --sklearn-color-icon: #878787;\n",
       "  }\n",
       "}\n",
       "\n",
       "#sk-container-id-1 {\n",
       "  color: var(--sklearn-color-text);\n",
       "}\n",
       "\n",
       "#sk-container-id-1 pre {\n",
       "  padding: 0;\n",
       "}\n",
       "\n",
       "#sk-container-id-1 input.sk-hidden--visually {\n",
       "  border: 0;\n",
       "  clip: rect(1px 1px 1px 1px);\n",
       "  clip: rect(1px, 1px, 1px, 1px);\n",
       "  height: 1px;\n",
       "  margin: -1px;\n",
       "  overflow: hidden;\n",
       "  padding: 0;\n",
       "  position: absolute;\n",
       "  width: 1px;\n",
       "}\n",
       "\n",
       "#sk-container-id-1 div.sk-dashed-wrapped {\n",
       "  border: 1px dashed var(--sklearn-color-line);\n",
       "  margin: 0 0.4em 0.5em 0.4em;\n",
       "  box-sizing: border-box;\n",
       "  padding-bottom: 0.4em;\n",
       "  background-color: var(--sklearn-color-background);\n",
       "}\n",
       "\n",
       "#sk-container-id-1 div.sk-container {\n",
       "  /* jupyter's `normalize.less` sets `[hidden] { display: none; }`\n",
       "     but bootstrap.min.css set `[hidden] { display: none !important; }`\n",
       "     so we also need the `!important` here to be able to override the\n",
       "     default hidden behavior on the sphinx rendered scikit-learn.org.\n",
       "     See: https://github.com/scikit-learn/scikit-learn/issues/21755 */\n",
       "  display: inline-block !important;\n",
       "  position: relative;\n",
       "}\n",
       "\n",
       "#sk-container-id-1 div.sk-text-repr-fallback {\n",
       "  display: none;\n",
       "}\n",
       "\n",
       "div.sk-parallel-item,\n",
       "div.sk-serial,\n",
       "div.sk-item {\n",
       "  /* draw centered vertical line to link estimators */\n",
       "  background-image: linear-gradient(var(--sklearn-color-text-on-default-background), var(--sklearn-color-text-on-default-background));\n",
       "  background-size: 2px 100%;\n",
       "  background-repeat: no-repeat;\n",
       "  background-position: center center;\n",
       "}\n",
       "\n",
       "/* Parallel-specific style estimator block */\n",
       "\n",
       "#sk-container-id-1 div.sk-parallel-item::after {\n",
       "  content: \"\";\n",
       "  width: 100%;\n",
       "  border-bottom: 2px solid var(--sklearn-color-text-on-default-background);\n",
       "  flex-grow: 1;\n",
       "}\n",
       "\n",
       "#sk-container-id-1 div.sk-parallel {\n",
       "  display: flex;\n",
       "  align-items: stretch;\n",
       "  justify-content: center;\n",
       "  background-color: var(--sklearn-color-background);\n",
       "  position: relative;\n",
       "}\n",
       "\n",
       "#sk-container-id-1 div.sk-parallel-item {\n",
       "  display: flex;\n",
       "  flex-direction: column;\n",
       "}\n",
       "\n",
       "#sk-container-id-1 div.sk-parallel-item:first-child::after {\n",
       "  align-self: flex-end;\n",
       "  width: 50%;\n",
       "}\n",
       "\n",
       "#sk-container-id-1 div.sk-parallel-item:last-child::after {\n",
       "  align-self: flex-start;\n",
       "  width: 50%;\n",
       "}\n",
       "\n",
       "#sk-container-id-1 div.sk-parallel-item:only-child::after {\n",
       "  width: 0;\n",
       "}\n",
       "\n",
       "/* Serial-specific style estimator block */\n",
       "\n",
       "#sk-container-id-1 div.sk-serial {\n",
       "  display: flex;\n",
       "  flex-direction: column;\n",
       "  align-items: center;\n",
       "  background-color: var(--sklearn-color-background);\n",
       "  padding-right: 1em;\n",
       "  padding-left: 1em;\n",
       "}\n",
       "\n",
       "\n",
       "/* Toggleable style: style used for estimator/Pipeline/ColumnTransformer box that is\n",
       "clickable and can be expanded/collapsed.\n",
       "- Pipeline and ColumnTransformer use this feature and define the default style\n",
       "- Estimators will overwrite some part of the style using the `sk-estimator` class\n",
       "*/\n",
       "\n",
       "/* Pipeline and ColumnTransformer style (default) */\n",
       "\n",
       "#sk-container-id-1 div.sk-toggleable {\n",
       "  /* Default theme specific background. It is overwritten whether we have a\n",
       "  specific estimator or a Pipeline/ColumnTransformer */\n",
       "  background-color: var(--sklearn-color-background);\n",
       "}\n",
       "\n",
       "/* Toggleable label */\n",
       "#sk-container-id-1 label.sk-toggleable__label {\n",
       "  cursor: pointer;\n",
       "  display: block;\n",
       "  width: 100%;\n",
       "  margin-bottom: 0;\n",
       "  padding: 0.5em;\n",
       "  box-sizing: border-box;\n",
       "  text-align: center;\n",
       "}\n",
       "\n",
       "#sk-container-id-1 label.sk-toggleable__label-arrow:before {\n",
       "  /* Arrow on the left of the label */\n",
       "  content: \"▸\";\n",
       "  float: left;\n",
       "  margin-right: 0.25em;\n",
       "  color: var(--sklearn-color-icon);\n",
       "}\n",
       "\n",
       "#sk-container-id-1 label.sk-toggleable__label-arrow:hover:before {\n",
       "  color: var(--sklearn-color-text);\n",
       "}\n",
       "\n",
       "/* Toggleable content - dropdown */\n",
       "\n",
       "#sk-container-id-1 div.sk-toggleable__content {\n",
       "  max-height: 0;\n",
       "  max-width: 0;\n",
       "  overflow: hidden;\n",
       "  text-align: left;\n",
       "  /* unfitted */\n",
       "  background-color: var(--sklearn-color-unfitted-level-0);\n",
       "}\n",
       "\n",
       "#sk-container-id-1 div.sk-toggleable__content.fitted {\n",
       "  /* fitted */\n",
       "  background-color: var(--sklearn-color-fitted-level-0);\n",
       "}\n",
       "\n",
       "#sk-container-id-1 div.sk-toggleable__content pre {\n",
       "  margin: 0.2em;\n",
       "  border-radius: 0.25em;\n",
       "  color: var(--sklearn-color-text);\n",
       "  /* unfitted */\n",
       "  background-color: var(--sklearn-color-unfitted-level-0);\n",
       "}\n",
       "\n",
       "#sk-container-id-1 div.sk-toggleable__content.fitted pre {\n",
       "  /* unfitted */\n",
       "  background-color: var(--sklearn-color-fitted-level-0);\n",
       "}\n",
       "\n",
       "#sk-container-id-1 input.sk-toggleable__control:checked~div.sk-toggleable__content {\n",
       "  /* Expand drop-down */\n",
       "  max-height: 200px;\n",
       "  max-width: 100%;\n",
       "  overflow: auto;\n",
       "}\n",
       "\n",
       "#sk-container-id-1 input.sk-toggleable__control:checked~label.sk-toggleable__label-arrow:before {\n",
       "  content: \"▾\";\n",
       "}\n",
       "\n",
       "/* Pipeline/ColumnTransformer-specific style */\n",
       "\n",
       "#sk-container-id-1 div.sk-label input.sk-toggleable__control:checked~label.sk-toggleable__label {\n",
       "  color: var(--sklearn-color-text);\n",
       "  background-color: var(--sklearn-color-unfitted-level-2);\n",
       "}\n",
       "\n",
       "#sk-container-id-1 div.sk-label.fitted input.sk-toggleable__control:checked~label.sk-toggleable__label {\n",
       "  background-color: var(--sklearn-color-fitted-level-2);\n",
       "}\n",
       "\n",
       "/* Estimator-specific style */\n",
       "\n",
       "/* Colorize estimator box */\n",
       "#sk-container-id-1 div.sk-estimator input.sk-toggleable__control:checked~label.sk-toggleable__label {\n",
       "  /* unfitted */\n",
       "  background-color: var(--sklearn-color-unfitted-level-2);\n",
       "}\n",
       "\n",
       "#sk-container-id-1 div.sk-estimator.fitted input.sk-toggleable__control:checked~label.sk-toggleable__label {\n",
       "  /* fitted */\n",
       "  background-color: var(--sklearn-color-fitted-level-2);\n",
       "}\n",
       "\n",
       "#sk-container-id-1 div.sk-label label.sk-toggleable__label,\n",
       "#sk-container-id-1 div.sk-label label {\n",
       "  /* The background is the default theme color */\n",
       "  color: var(--sklearn-color-text-on-default-background);\n",
       "}\n",
       "\n",
       "/* On hover, darken the color of the background */\n",
       "#sk-container-id-1 div.sk-label:hover label.sk-toggleable__label {\n",
       "  color: var(--sklearn-color-text);\n",
       "  background-color: var(--sklearn-color-unfitted-level-2);\n",
       "}\n",
       "\n",
       "/* Label box, darken color on hover, fitted */\n",
       "#sk-container-id-1 div.sk-label.fitted:hover label.sk-toggleable__label.fitted {\n",
       "  color: var(--sklearn-color-text);\n",
       "  background-color: var(--sklearn-color-fitted-level-2);\n",
       "}\n",
       "\n",
       "/* Estimator label */\n",
       "\n",
       "#sk-container-id-1 div.sk-label label {\n",
       "  font-family: monospace;\n",
       "  font-weight: bold;\n",
       "  display: inline-block;\n",
       "  line-height: 1.2em;\n",
       "}\n",
       "\n",
       "#sk-container-id-1 div.sk-label-container {\n",
       "  text-align: center;\n",
       "}\n",
       "\n",
       "/* Estimator-specific */\n",
       "#sk-container-id-1 div.sk-estimator {\n",
       "  font-family: monospace;\n",
       "  border: 1px dotted var(--sklearn-color-border-box);\n",
       "  border-radius: 0.25em;\n",
       "  box-sizing: border-box;\n",
       "  margin-bottom: 0.5em;\n",
       "  /* unfitted */\n",
       "  background-color: var(--sklearn-color-unfitted-level-0);\n",
       "}\n",
       "\n",
       "#sk-container-id-1 div.sk-estimator.fitted {\n",
       "  /* fitted */\n",
       "  background-color: var(--sklearn-color-fitted-level-0);\n",
       "}\n",
       "\n",
       "/* on hover */\n",
       "#sk-container-id-1 div.sk-estimator:hover {\n",
       "  /* unfitted */\n",
       "  background-color: var(--sklearn-color-unfitted-level-2);\n",
       "}\n",
       "\n",
       "#sk-container-id-1 div.sk-estimator.fitted:hover {\n",
       "  /* fitted */\n",
       "  background-color: var(--sklearn-color-fitted-level-2);\n",
       "}\n",
       "\n",
       "/* Specification for estimator info (e.g. \"i\" and \"?\") */\n",
       "\n",
       "/* Common style for \"i\" and \"?\" */\n",
       "\n",
       ".sk-estimator-doc-link,\n",
       "a:link.sk-estimator-doc-link,\n",
       "a:visited.sk-estimator-doc-link {\n",
       "  float: right;\n",
       "  font-size: smaller;\n",
       "  line-height: 1em;\n",
       "  font-family: monospace;\n",
       "  background-color: var(--sklearn-color-background);\n",
       "  border-radius: 1em;\n",
       "  height: 1em;\n",
       "  width: 1em;\n",
       "  text-decoration: none !important;\n",
       "  margin-left: 1ex;\n",
       "  /* unfitted */\n",
       "  border: var(--sklearn-color-unfitted-level-1) 1pt solid;\n",
       "  color: var(--sklearn-color-unfitted-level-1);\n",
       "}\n",
       "\n",
       ".sk-estimator-doc-link.fitted,\n",
       "a:link.sk-estimator-doc-link.fitted,\n",
       "a:visited.sk-estimator-doc-link.fitted {\n",
       "  /* fitted */\n",
       "  border: var(--sklearn-color-fitted-level-1) 1pt solid;\n",
       "  color: var(--sklearn-color-fitted-level-1);\n",
       "}\n",
       "\n",
       "/* On hover */\n",
       "div.sk-estimator:hover .sk-estimator-doc-link:hover,\n",
       ".sk-estimator-doc-link:hover,\n",
       "div.sk-label-container:hover .sk-estimator-doc-link:hover,\n",
       ".sk-estimator-doc-link:hover {\n",
       "  /* unfitted */\n",
       "  background-color: var(--sklearn-color-unfitted-level-3);\n",
       "  color: var(--sklearn-color-background);\n",
       "  text-decoration: none;\n",
       "}\n",
       "\n",
       "div.sk-estimator.fitted:hover .sk-estimator-doc-link.fitted:hover,\n",
       ".sk-estimator-doc-link.fitted:hover,\n",
       "div.sk-label-container:hover .sk-estimator-doc-link.fitted:hover,\n",
       ".sk-estimator-doc-link.fitted:hover {\n",
       "  /* fitted */\n",
       "  background-color: var(--sklearn-color-fitted-level-3);\n",
       "  color: var(--sklearn-color-background);\n",
       "  text-decoration: none;\n",
       "}\n",
       "\n",
       "/* Span, style for the box shown on hovering the info icon */\n",
       ".sk-estimator-doc-link span {\n",
       "  display: none;\n",
       "  z-index: 9999;\n",
       "  position: relative;\n",
       "  font-weight: normal;\n",
       "  right: .2ex;\n",
       "  padding: .5ex;\n",
       "  margin: .5ex;\n",
       "  width: min-content;\n",
       "  min-width: 20ex;\n",
       "  max-width: 50ex;\n",
       "  color: var(--sklearn-color-text);\n",
       "  box-shadow: 2pt 2pt 4pt #999;\n",
       "  /* unfitted */\n",
       "  background: var(--sklearn-color-unfitted-level-0);\n",
       "  border: .5pt solid var(--sklearn-color-unfitted-level-3);\n",
       "}\n",
       "\n",
       ".sk-estimator-doc-link.fitted span {\n",
       "  /* fitted */\n",
       "  background: var(--sklearn-color-fitted-level-0);\n",
       "  border: var(--sklearn-color-fitted-level-3);\n",
       "}\n",
       "\n",
       ".sk-estimator-doc-link:hover span {\n",
       "  display: block;\n",
       "}\n",
       "\n",
       "/* \"?\"-specific style due to the `<a>` HTML tag */\n",
       "\n",
       "#sk-container-id-1 a.estimator_doc_link {\n",
       "  float: right;\n",
       "  font-size: 1rem;\n",
       "  line-height: 1em;\n",
       "  font-family: monospace;\n",
       "  background-color: var(--sklearn-color-background);\n",
       "  border-radius: 1rem;\n",
       "  height: 1rem;\n",
       "  width: 1rem;\n",
       "  text-decoration: none;\n",
       "  /* unfitted */\n",
       "  color: var(--sklearn-color-unfitted-level-1);\n",
       "  border: var(--sklearn-color-unfitted-level-1) 1pt solid;\n",
       "}\n",
       "\n",
       "#sk-container-id-1 a.estimator_doc_link.fitted {\n",
       "  /* fitted */\n",
       "  border: var(--sklearn-color-fitted-level-1) 1pt solid;\n",
       "  color: var(--sklearn-color-fitted-level-1);\n",
       "}\n",
       "\n",
       "/* On hover */\n",
       "#sk-container-id-1 a.estimator_doc_link:hover {\n",
       "  /* unfitted */\n",
       "  background-color: var(--sklearn-color-unfitted-level-3);\n",
       "  color: var(--sklearn-color-background);\n",
       "  text-decoration: none;\n",
       "}\n",
       "\n",
       "#sk-container-id-1 a.estimator_doc_link.fitted:hover {\n",
       "  /* fitted */\n",
       "  background-color: var(--sklearn-color-fitted-level-3);\n",
       "}\n",
       "</style><div id=\"sk-container-id-1\" class=\"sk-top-container\"><div class=\"sk-text-repr-fallback\"><pre>MultinomialNB()</pre><b>In a Jupyter environment, please rerun this cell to show the HTML representation or trust the notebook. <br />On GitHub, the HTML representation is unable to render, please try loading this page with nbviewer.org.</b></div><div class=\"sk-container\" hidden><div class=\"sk-item\"><div class=\"sk-estimator fitted sk-toggleable\"><input class=\"sk-toggleable__control sk-hidden--visually\" id=\"sk-estimator-id-1\" type=\"checkbox\" checked><label for=\"sk-estimator-id-1\" class=\"sk-toggleable__label fitted sk-toggleable__label-arrow fitted\">&nbsp;&nbsp;MultinomialNB<a class=\"sk-estimator-doc-link fitted\" rel=\"noreferrer\" target=\"_blank\" href=\"https://scikit-learn.org/1.4/modules/generated/sklearn.naive_bayes.MultinomialNB.html\">?<span>Documentation for MultinomialNB</span></a><span class=\"sk-estimator-doc-link fitted\">i<span>Fitted</span></span></label><div class=\"sk-toggleable__content fitted\"><pre>MultinomialNB()</pre></div> </div></div></div></div>"
      ],
      "text/plain": [
       "MultinomialNB()"
      ]
     },
     "execution_count": 11,
     "metadata": {},
     "output_type": "execute_result"
    }
   ],
   "source": [
    "# train a Gaussian Naive Bayes classifier on the training set\n",
    "from sklearn.naive_bayes import MultinomialNB\n",
    "\n",
    "\n",
    "# instantiate the model\n",
    "mnb = MultinomialNB()\n",
    "\n",
    "\n",
    "# fit the model\n",
    "mnb.fit(X_train, y_train)"
   ]
  },
  {
   "cell_type": "markdown",
   "id": "b68ac869",
   "metadata": {},
   "source": [
    "### Predict data"
   ]
  },
  {
   "cell_type": "code",
   "execution_count": 21,
   "id": "a0870b0c",
   "metadata": {
    "scrolled": true
   },
   "outputs": [
    {
     "name": "stdout",
     "output_type": "stream",
     "text": [
      "18105\n"
     ]
    },
    {
     "name": "stderr",
     "output_type": "stream",
     "text": [
      "/Users/christylentz/anaconda3/lib/python3.11/site-packages/sklearn/base.py:486: UserWarning: X has feature names, but MultinomialNB was fitted without feature names\n",
      "  warnings.warn(\n"
     ]
    }
   ],
   "source": [
    "y_pred = mnb.predict(X_test)\n"
   ]
  },
  {
   "cell_type": "code",
   "execution_count": null,
   "id": "dd54e902",
   "metadata": {},
   "outputs": [],
   "source": [
    "y_pred"
   ]
  },
  {
   "cell_type": "code",
   "execution_count": null,
   "id": "6a70207a",
   "metadata": {},
   "outputs": [],
   "source": []
  },
  {
   "cell_type": "markdown",
   "id": "52b327e6",
   "metadata": {},
   "source": [
    "### Check Accuracy"
   ]
  },
  {
   "cell_type": "code",
   "execution_count": 13,
   "id": "55c7f4fc",
   "metadata": {
    "scrolled": false
   },
   "outputs": [
    {
     "name": "stdout",
     "output_type": "stream",
     "text": [
      "Model accuracy score: 0.7276\n"
     ]
    }
   ],
   "source": [
    "from sklearn.metrics import accuracy_score\n",
    "\n",
    "print('Model accuracy score: {0:0.4f}'. format(accuracy_score(y_test, y_pred)))"
   ]
  },
  {
   "cell_type": "markdown",
   "id": "af0c8d2c",
   "metadata": {},
   "source": [
    "### Compare Train-set and test-set accuracy"
   ]
  },
  {
   "cell_type": "code",
   "execution_count": 14,
   "id": "2c0ec12f",
   "metadata": {},
   "outputs": [
    {
     "data": {
      "text/plain": [
       "array([0., 1., 1., ..., 1., 1., 1.])"
      ]
     },
     "execution_count": 14,
     "metadata": {},
     "output_type": "execute_result"
    }
   ],
   "source": [
    "y_pred_train = mnb.predict(X_train)\n",
    "\n",
    "y_pred_train"
   ]
  },
  {
   "cell_type": "code",
   "execution_count": 15,
   "id": "5f2412b8",
   "metadata": {
    "scrolled": true
   },
   "outputs": [
    {
     "name": "stdout",
     "output_type": "stream",
     "text": [
      "Training-set accuracy score: 0.7238\n"
     ]
    }
   ],
   "source": [
    "print('Training-set accuracy score: {0:0.4f}'. format(accuracy_score(y_train, y_pred_train)))\n"
   ]
  },
  {
   "cell_type": "markdown",
   "id": "328b8c31",
   "metadata": {},
   "source": [
    "### Check for over or under fitting"
   ]
  },
  {
   "cell_type": "code",
   "execution_count": 17,
   "id": "aaf586ec",
   "metadata": {},
   "outputs": [
    {
     "name": "stdout",
     "output_type": "stream",
     "text": [
      "Training set score: 0.7238\n",
      "Test set score: 0.7276\n"
     ]
    }
   ],
   "source": [
    "# print the scores on training and test set\n",
    "\n",
    "print('Training set score: {:.4f}'.format(mnb.score(X_train, y_train)))\n",
    "\n",
    "print('Test set score: {:.4f}'.format(mnb.score(X_test, y_test)))"
   ]
  },
  {
   "cell_type": "markdown",
   "id": "e2c52043",
   "metadata": {
    "scrolled": true
   },
   "source": [
    "# Check Null Accuracy"
   ]
  },
  {
   "cell_type": "code",
   "execution_count": 18,
   "id": "6e2863c9",
   "metadata": {},
   "outputs": [
    {
     "data": {
      "text/plain": [
       "MSP\n",
       "1.0    11077\n",
       "0.0     7028\n",
       "Name: count, dtype: int64"
      ]
     },
     "execution_count": 18,
     "metadata": {},
     "output_type": "execute_result"
    }
   ],
   "source": [
    "# check class distribution in test set\n",
    "\n",
    "# Null accuracy is the accuracy that could be achieved by always predicting the most frequent class.\n",
    "\n",
    "y_test.value_counts()"
   ]
  },
  {
   "cell_type": "code",
   "execution_count": 19,
   "id": "bce8a510",
   "metadata": {},
   "outputs": [
    {
     "name": "stdout",
     "output_type": "stream",
     "text": [
      "Null accuracy score: 0.6118\n"
     ]
    }
   ],
   "source": [
    "# calculate null accuracy by dividing by the # of occurences of the most frequent class (11077)\n",
    "null_accuracy = (11077/(11077+7028))\n",
    "\n",
    "print('Null accuracy score: {0:0.4f}'. format(null_accuracy))"
   ]
  },
  {
   "cell_type": "code",
   "execution_count": null,
   "id": "3bc9004f",
   "metadata": {},
   "outputs": [],
   "source": [
    "\n",
    "# NB model is doing pretty well if null accuracy score is 61% and ours is 72%"
   ]
  },
  {
   "cell_type": "markdown",
   "id": "2a1cf6e6",
   "metadata": {},
   "source": [
    "### Confusion Matrix"
   ]
  },
  {
   "cell_type": "code",
   "execution_count": 25,
   "id": "2b6ea5e3",
   "metadata": {},
   "outputs": [
    {
     "name": "stdout",
     "output_type": "stream",
     "text": [
      "Confusion matrix\n",
      "\n",
      " [[ 2097  4931]\n",
      " [    0 11077]]\n",
      "\n",
      "True Positives(TP) =  2097\n",
      "\n",
      "True Negatives(TN) =  11077\n",
      "\n",
      "False Positives(FP) =  4931\n",
      "\n",
      "False Negatives(FN) =  0\n"
     ]
    }
   ],
   "source": [
    "# Print the Confusion Matrix and slice it into four pieces\n",
    "\n",
    "from sklearn.metrics import confusion_matrix\n",
    "\n",
    "cm = confusion_matrix(y_test, y_pred)\n",
    "\n",
    "print('Confusion matrix\\n\\n', cm)\n",
    "\n",
    "print('\\nTrue Positives(TP) = ', cm[0,0])\n",
    "\n",
    "print('\\nTrue Negatives(TN) = ', cm[1,1])\n",
    "\n",
    "print('\\nFalse Positives(FP) = ', cm[0,1])\n",
    "\n",
    "print('\\nFalse Negatives(FN) = ', cm[1,0])"
   ]
  },
  {
   "cell_type": "code",
   "execution_count": 49,
   "id": "c8e1a8df",
   "metadata": {},
   "outputs": [
    {
     "data": {
      "text/plain": [
       "<Axes: >"
      ]
     },
     "execution_count": 49,
     "metadata": {},
     "output_type": "execute_result"
    },
    {
     "data": {
      "image/png": "[encoded data removed]",
      "text/plain": [
       "<Figure size 640x480 with 2 Axes>"
      ]
     },
     "metadata": {},
     "output_type": "display_data"
    }
   ],
   "source": [
    "import seaborn as sns # for statistical data visualization\n",
    "\n",
    "cm_matrix = pd.DataFrame(data = cm, columns=['Positive', 'Negative'], \n",
    "                                 index=['Positive', 'Negative'])\n",
    "\n",
    "sns.heatmap(cm_matrix, annot = True, fmt='d', cmap='inferno')"
   ]
  },
  {
   "cell_type": "code",
   "execution_count": 28,
   "id": "48d803e0",
   "metadata": {},
   "outputs": [
    {
     "name": "stdout",
     "output_type": "stream",
     "text": [
      "              precision    recall  f1-score   support\n",
      "\n",
      "         0.0       1.00      0.30      0.46      7028\n",
      "         1.0       0.69      1.00      0.82     11077\n",
      "\n",
      "    accuracy                           0.73     18105\n",
      "   macro avg       0.85      0.65      0.64     18105\n",
      "weighted avg       0.81      0.73      0.68     18105\n",
      "\n"
     ]
    }
   ],
   "source": [
    "from sklearn.metrics import classification_report\n",
    "\n",
    "print(classification_report(y_test, y_pred))"
   ]
  },
  {
   "cell_type": "code",
   "execution_count": 29,
   "id": "73a496c0",
   "metadata": {},
   "outputs": [],
   "source": [
    "TP = cm[0,0]\n",
    "TN = cm[1,1]\n",
    "FP = cm[0,1]\n",
    "FN = cm[1,0]"
   ]
  },
  {
   "cell_type": "code",
   "execution_count": 30,
   "id": "7a371528",
   "metadata": {},
   "outputs": [
    {
     "name": "stdout",
     "output_type": "stream",
     "text": [
      "Classification accuracy : 0.7276\n"
     ]
    }
   ],
   "source": [
    "# print classification accuracy\n",
    "\n",
    "classification_accuracy = (TP + TN) / float(TP + TN + FP + FN)\n",
    "\n",
    "print('Classification accuracy : {0:0.4f}'.format(classification_accuracy))"
   ]
  },
  {
   "cell_type": "code",
   "execution_count": 31,
   "id": "81c28cea",
   "metadata": {},
   "outputs": [
    {
     "name": "stdout",
     "output_type": "stream",
     "text": [
      "Classification error : 0.2724\n"
     ]
    }
   ],
   "source": [
    "# print classification error\n",
    "\n",
    "classification_error = (FP + FN) / float(TP + TN + FP + FN)\n",
    "\n",
    "print('Classification error : {0:0.4f}'.format(classification_error))"
   ]
  },
  {
   "cell_type": "code",
   "execution_count": 32,
   "id": "cdf68af8",
   "metadata": {},
   "outputs": [
    {
     "name": "stdout",
     "output_type": "stream",
     "text": [
      "Precision : 0.2984\n"
     ]
    }
   ],
   "source": [
    "# print precision score\n",
    "\n",
    "precision = TP / float(TP + FP)\n",
    "\n",
    "\n",
    "print('Precision : {0:0.4f}'.format(precision))"
   ]
  },
  {
   "cell_type": "code",
   "execution_count": 33,
   "id": "40a3e109",
   "metadata": {},
   "outputs": [
    {
     "name": "stdout",
     "output_type": "stream",
     "text": [
      "Recall or Sensitivity : 1.0000\n"
     ]
    }
   ],
   "source": [
    "recall = TP / float(TP + FN)\n",
    "\n",
    "print('Recall or Sensitivity : {0:0.4f}'.format(recall))"
   ]
  },
  {
   "cell_type": "code",
   "execution_count": 34,
   "id": "ada248a8",
   "metadata": {},
   "outputs": [
    {
     "name": "stdout",
     "output_type": "stream",
     "text": [
      "True Positive Rate : 1.0000\n"
     ]
    }
   ],
   "source": [
    "true_positive_rate = TP / float(TP + FN)\n",
    "\n",
    "\n",
    "print('True Positive Rate : {0:0.4f}'.format(true_positive_rate))\n"
   ]
  },
  {
   "cell_type": "code",
   "execution_count": 35,
   "id": "e4044005",
   "metadata": {},
   "outputs": [
    {
     "name": "stdout",
     "output_type": "stream",
     "text": [
      "False Positive Rate : 0.3080\n"
     ]
    }
   ],
   "source": [
    "false_positive_rate = FP / float(FP + TN)\n",
    "\n",
    "\n",
    "print('False Positive Rate : {0:0.4f}'.format(false_positive_rate))"
   ]
  },
  {
   "cell_type": "code",
   "execution_count": 36,
   "id": "b8483ed8",
   "metadata": {},
   "outputs": [
    {
     "name": "stdout",
     "output_type": "stream",
     "text": [
      "Specificity : 0.6920\n"
     ]
    }
   ],
   "source": [
    "specificity = TN / (TN + FP)\n",
    "\n",
    "print('Specificity : {0:0.4f}'.format(specificity))"
   ]
  },
  {
   "cell_type": "code",
   "execution_count": 38,
   "id": "934ba961",
   "metadata": {},
   "outputs": [
    {
     "name": "stderr",
     "output_type": "stream",
     "text": [
      "/Users/christylentz/anaconda3/lib/python3.11/site-packages/sklearn/base.py:486: UserWarning: X has feature names, but MultinomialNB was fitted without feature names\n",
      "  warnings.warn(\n"
     ]
    },
    {
     "data": {
      "text/plain": [
       "array([[0.45157802, 0.54842198],\n",
       "       [0.46911613, 0.53088387],\n",
       "       [0.36872761, 0.63127239],\n",
       "       [0.63341008, 0.36658992],\n",
       "       [0.35241607, 0.64758393],\n",
       "       [0.51867677, 0.48132323],\n",
       "       [0.30031388, 0.69968612],\n",
       "       [0.40817896, 0.59182104],\n",
       "       [0.29976955, 0.70023045],\n",
       "       [0.38517583, 0.61482417]])"
      ]
     },
     "execution_count": 38,
     "metadata": {},
     "output_type": "execute_result"
    }
   ],
   "source": [
    "# print the first 10 predicted probabilities of two classes- 0 and 1\n",
    "\n",
    "y_pred_prob = mnb.predict_proba(X_test)[0:10]\n",
    "\n",
    "y_pred_prob\n"
   ]
  },
  {
   "cell_type": "code",
   "execution_count": 40,
   "id": "df8d4c46",
   "metadata": {},
   "outputs": [
    {
     "name": "stdout",
     "output_type": "stream",
     "text": [
      "              precision    recall  f1-score   support\n",
      "\n",
      "         0.0       1.00      0.30      0.46      7028\n",
      "         1.0       0.69      1.00      0.82     11077\n",
      "\n",
      "    accuracy                           0.73     18105\n",
      "   macro avg       0.85      0.65      0.64     18105\n",
      "weighted avg       0.81      0.73      0.68     18105\n",
      "\n"
     ]
    }
   ],
   "source": [
    "from sklearn.metrics import classification_report\n",
    "\n",
    "print(classification_report(y_test, y_pred))"
   ]
  },
  {
   "cell_type": "code",
   "execution_count": 41,
   "id": "909fc680",
   "metadata": {},
   "outputs": [
    {
     "data": {
      "text/html": [
       "<div>\n",
       "<style scoped>\n",
       "    .dataframe tbody tr th:only-of-type {\n",
       "        vertical-align: middle;\n",
       "    }\n",
       "\n",
       "    .dataframe tbody tr th {\n",
       "        vertical-align: top;\n",
       "    }\n",
       "\n",
       "    .dataframe thead th {\n",
       "        text-align: right;\n",
       "    }\n",
       "</style>\n",
       "<table border=\"1\" class=\"dataframe\">\n",
       "  <thead>\n",
       "    <tr style=\"text-align: right;\">\n",
       "      <th></th>\n",
       "      <th>Not MSP</th>\n",
       "      <th>MSP</th>\n",
       "    </tr>\n",
       "  </thead>\n",
       "  <tbody>\n",
       "    <tr>\n",
       "      <th>0</th>\n",
       "      <td>0.451578</td>\n",
       "      <td>0.548422</td>\n",
       "    </tr>\n",
       "    <tr>\n",
       "      <th>1</th>\n",
       "      <td>0.469116</td>\n",
       "      <td>0.530884</td>\n",
       "    </tr>\n",
       "    <tr>\n",
       "      <th>2</th>\n",
       "      <td>0.368728</td>\n",
       "      <td>0.631272</td>\n",
       "    </tr>\n",
       "    <tr>\n",
       "      <th>3</th>\n",
       "      <td>0.633410</td>\n",
       "      <td>0.366590</td>\n",
       "    </tr>\n",
       "    <tr>\n",
       "      <th>4</th>\n",
       "      <td>0.352416</td>\n",
       "      <td>0.647584</td>\n",
       "    </tr>\n",
       "    <tr>\n",
       "      <th>5</th>\n",
       "      <td>0.518677</td>\n",
       "      <td>0.481323</td>\n",
       "    </tr>\n",
       "    <tr>\n",
       "      <th>6</th>\n",
       "      <td>0.300314</td>\n",
       "      <td>0.699686</td>\n",
       "    </tr>\n",
       "    <tr>\n",
       "      <th>7</th>\n",
       "      <td>0.408179</td>\n",
       "      <td>0.591821</td>\n",
       "    </tr>\n",
       "    <tr>\n",
       "      <th>8</th>\n",
       "      <td>0.299770</td>\n",
       "      <td>0.700230</td>\n",
       "    </tr>\n",
       "    <tr>\n",
       "      <th>9</th>\n",
       "      <td>0.385176</td>\n",
       "      <td>0.614824</td>\n",
       "    </tr>\n",
       "  </tbody>\n",
       "</table>\n",
       "</div>"
      ],
      "text/plain": [
       "    Not MSP       MSP\n",
       "0  0.451578  0.548422\n",
       "1  0.469116  0.530884\n",
       "2  0.368728  0.631272\n",
       "3  0.633410  0.366590\n",
       "4  0.352416  0.647584\n",
       "5  0.518677  0.481323\n",
       "6  0.300314  0.699686\n",
       "7  0.408179  0.591821\n",
       "8  0.299770  0.700230\n",
       "9  0.385176  0.614824"
      ]
     },
     "execution_count": 41,
     "metadata": {},
     "output_type": "execute_result"
    }
   ],
   "source": [
    "# store the probabilities in dataframe\n",
    "\n",
    "y_pred_prob_df = pd.DataFrame(data=y_pred_prob, columns=['Not MSP', 'MSP'])\n",
    "\n",
    "y_pred_prob_df"
   ]
  },
  {
   "cell_type": "code",
   "execution_count": 43,
   "id": "89c97c32",
   "metadata": {},
   "outputs": [
    {
     "name": "stderr",
     "output_type": "stream",
     "text": [
      "/Users/christylentz/anaconda3/lib/python3.11/site-packages/sklearn/base.py:486: UserWarning: X has feature names, but MultinomialNB was fitted without feature names\n",
      "  warnings.warn(\n",
      "/Users/christylentz/anaconda3/lib/python3.11/site-packages/sklearn/base.py:486: UserWarning: X has feature names, but MultinomialNB was fitted without feature names\n",
      "  warnings.warn(\n"
     ]
    }
   ],
   "source": [
    "# print the first 10 predicted probabilities for class 1 - Probability of MSP\n",
    "\n",
    "mnb.predict_proba(X_test)[0:10, 1]\n",
    "# store the predicted probabilities for class 1 - Probability of being in MSP\n",
    "\n",
    "y_pred1 = mnb.predict_proba(X_test)[:, 1]"
   ]
  },
  {
   "cell_type": "code",
   "execution_count": 45,
   "id": "c9476d41",
   "metadata": {},
   "outputs": [
    {
     "data": {
      "image/png": "[encoded data removed]",
      "text/plain": [
       "<Figure size 640x480 with 1 Axes>"
      ]
     },
     "metadata": {},
     "output_type": "display_data"
    }
   ],
   "source": [
    "# plot histogram of predicted probabilities\n",
    "\n",
    "\n",
    "# adjust the font size \n",
    "plt.rcParams['font.size'] = 12\n",
    "\n",
    "\n",
    "# plot histogram with 10 bins\n",
    "plt.hist(y_pred1, bins = 10, color = \"teal\", ec=\"k\")\n",
    "\n",
    "\n",
    "# set the title of predicted probabilities\n",
    "plt.title('Histogram of predicted probabilities of \\n being in Magnetosphere')\n",
    "\n",
    "\n",
    "# set the x-axis limit\n",
    "plt.xlim(0,1)\n",
    "\n",
    "\n",
    "# set the title\n",
    "plt.xlabel('Predicted probabilities of being in Magnetosphere')\n",
    "plt.ylabel('Frequency')\n",
    "plt.grid('on')\n"
   ]
  },
  {
   "cell_type": "code",
   "execution_count": null,
   "id": "8e4e9aca",
   "metadata": {},
   "outputs": [],
   "source": []
  },
  {
   "cell_type": "code",
   "execution_count": null,
   "id": "c0f7b71c",
   "metadata": {},
   "outputs": [],
   "source": []
  }
 ],
 "metadata": {
  "kernelspec": {
   "display_name": "Python 3 (ipykernel)",
   "language": "python",
   "name": "python3"
  },
  "language_info": {
   "codemirror_mode": {
    "name": "ipython",
    "version": 3
   },
   "file_extension": ".py",
   "mimetype": "text/x-python",
   "name": "python",
   "nbconvert_exporter": "python",
   "pygments_lexer": "ipython3",
   "version": "3.11.5"
  }
 },
 "nbformat": 4,
 "nbformat_minor": 5
}
